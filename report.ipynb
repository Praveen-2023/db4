{
 "cells": [
  {
   "cell_type": "markdown",
   "metadata": {},
   "source": [
    "# Lightweight DBMS with B+ Tree Index\n",
    "\n",
    "## CS 432 Assignment 4\n",
    "\n",
    "This report documents the implementation and performance analysis of a lightweight database management system (DBMS) with B+ Tree indexing."
   ]
  },
  {
   "cell_type": "markdown",
   "metadata": {},
   "source": [
    "## 1. Introduction\n",
    "\n",
    "Efficient data storage and retrieval are fundamental challenges in computer science, particularly in database systems and file indexing. The B+ Tree is a self-balancing tree structure that enhances performance in disk-based and memory-based data management. It optimizes search, insertion, and deletion operations, making it widely used in database indexing, file systems, and key-value stores.\n",
    "\n",
    "This project focuses on implementing a B+ Tree with essential operations, including insertion, deletion, search, and range queries. Furthermore, a performance analysis is conducted by comparing the B+ Tree with a brute-force approach. This provides insights into how structured indexing improves efficiency."
   ]
  },
  {
   "cell_type": "markdown",
   "metadata": {},
   "source": [
    "## 2. Implementation\n",
    "\n",
    "### 2.1 B+ Tree Implementation\n",
    "\n",
    "The B+ Tree implementation consists of two main classes:\n",
    "\n",
    "1. `BPlusTreeNode`: Represents a node in the B+ Tree, which can be either an internal node or a leaf node.\n",
    "2. `BPlusTree`: The main class that implements the B+ Tree operations.\n",
    "\n",
    "The B+ Tree has the following key features:\n",
    "\n",
    "- **Insertion**: Keys are inserted while ensuring automatic node splitting.\n",
    "- **Deletion**: Keys are removed with proper merging and redistribution.\n",
    "- **Exact Search**: Ability to find whether a key exists in the tree.\n",
    "- **Range Queries**: Retrieve all keys within a given range.\n",
    "- **Value Storage**: Associate values (records for the table) with keys in the tree."
   ]
  },
  {
   "cell_type": "markdown",
   "metadata": {},
   "source": [
    "### 2.2 Database Manager\n",
    "\n",
    "The database manager (`Database` class) provides the following functionality:\n",
    "\n",
    "- Creating and managing tables\n",
    "- Persistence of database\n",
    "- CRUD operations on tables\n",
    "\n",
    "The `Table` class uses the B+ Tree for indexing and provides the following operations:\n",
    "\n",
    "- Insert: Insert a row into the table\n",
    "- Update: Update a row in the table\n",
    "- Delete: Delete a row from the table\n",
    "- Select: Select a row by primary key\n",
    "- Select Range: Select rows within a range of primary key values\n",
    "- Select All: Select all rows in the table"
   ]
  },
  {
   "cell_type": "markdown",
   "metadata": {},
   "source": [
    "### 2.3 BruteForceDB\n",
    "\n",
    "The `BruteForceDB` class is a simple implementation that uses a list to store key-value pairs. It provides the same operations as the B+ Tree but uses linear search for all operations. This is used as a baseline for performance comparison."
   ]
  },
  {
   "cell_type": "markdown",
   "metadata": {},
   "source": [
    "### 2.4 Performance Analyzer\n",
    "\n",
    "The `PerformanceAnalyzer` class is used to compare the performance of the B+ Tree and BruteForceDB. It measures the following metrics:\n",
    "\n",
    "- Insertion Time: How long it takes to insert keys in both structures.\n",
    "- Search Time: Compare the time taken for exact match searches.\n",
    "- Deletion Time: Compare the time taken to delete the records.\n",
    "- Range Query Time: Measure the efficiency of retrieving keys in a range.\n",
    "- Random Performance: Performance of Random task (Insertion, Search, Deletion).\n",
    "- Memory Usage: Track how much memory is used by each structure."
   ]
  },
  {
   "cell_type": "markdown",
   "metadata": {},
   "source": [
    "## 3. Performance Analysis\n",
    "\n",
    "Let's run the performance analysis and visualize the results."
   ]
  },
  {
   "cell_type": "code",
   "execution_count": null,
   "metadata": {},
   "outputs": [],
   "source": [
    "import os\n",
    "import sys\n",
    "import matplotlib.pyplot as plt\n",
    "import numpy as np\n",
    "from database.performance_analyzer import PerformanceAnalyzer\n",
    "\n",
    "# Create the analyzer\n",
    "analyzer = PerformanceAnalyzer()\n",
    "\n",
    "# Define data sizes to benchmark\n",
    "sizes = [100, 500, 1000, 5000]\n",
    "\n",
    "# Run all benchmarks\n",
    "print(\"Running benchmarks...\")\n",
    "results = analyzer.run_all_benchmarks(sizes, num_runs=3)\n",
    "\n",
    "# Plot the results\n",
    "print(\"Plotting results...\")\n",
    "analyzer.plot_all_results()"
   ]
  },
  {
   "cell_type": "markdown",
   "metadata": {},
   "source": [
    "### 3.1 Insertion Performance\n",
    "\n",
    "![Insertion Performance](insertion_time.png)\n",
    "\n",
    "The graph above shows the insertion time for both the B+ Tree and BruteForceDB. As the data size increases, the B+ Tree maintains a logarithmic growth in insertion time, while the BruteForceDB shows a linear growth. This demonstrates the efficiency of the B+ Tree for insertion operations."
   ]
  },
  {
   "cell_type": "markdown",
   "metadata": {},
   "source": [
    "### 3.2 Search Performance\n",
    "\n",
    "![Search Performance](search_time.png)\n",
    "\n",
    "The search performance graph shows that the B+ Tree has a logarithmic search time, while the BruteForceDB has a linear search time. This is because the B+ Tree can quickly narrow down the search space using its hierarchical structure, while the BruteForceDB has to scan the entire list."
   ]
  },
  {
   "cell_type": "markdown",
   "metadata": {},
   "source": [
    "### 3.3 Range Query Performance\n",
    "\n",
    "![Range Query Performance](range_query_time.png)\n",
    "\n",
    "For range queries, the B+ Tree shows a significant advantage over the BruteForceDB. The B+ Tree can efficiently find the start of the range and then traverse the linked list of leaf nodes to collect all keys in the range. The BruteForceDB, on the other hand, has to scan the entire list for each range query."
   ]
  },
  {
   "cell_type": "markdown",
   "metadata": {},
   "source": [
    "### 3.4 Deletion Performance\n",
    "\n",
    "![Deletion Performance](deletion_time.png)\n",
    "\n",
    "The deletion performance graph shows that the B+ Tree has a logarithmic deletion time, while the BruteForceDB has a linear deletion time. This is because the B+ Tree can quickly locate the key to delete using its hierarchical structure, while the BruteForceDB has to scan the entire list."
   ]
  },
  {
   "cell_type": "markdown",
   "metadata": {},
   "source": [
    "### 3.5 Random Operations Performance\n",
    "\n",
    "![Random Operations Performance](random_operations_time.png)\n",
    "\n",
    "The random operations performance graph shows the overall performance of both structures for a mix of insertion, search, and deletion operations. The B+ Tree consistently outperforms the BruteForceDB, especially as the data size increases."
   ]
  },
  {
   "cell_type": "markdown",
   "metadata": {},
   "source": [
    "### 3.6 Memory Usage\n",
    "\n",
    "![Memory Usage](insertion_memory.png)\n",
    "\n",
    "The memory usage graph shows that the B+ Tree uses more memory than the BruteForceDB for small data sizes, but the difference becomes less significant as the data size increases. This is because the B+ Tree has some overhead for maintaining its structure, but this overhead is amortized over larger data sizes."
   ]
  },
  {
   "cell_type": "markdown",
   "metadata": {},
   "source": [
    "## 4. Visualization\n",
    "\n",
    "Let's visualize the B+ Tree structure for some of our database tables."
   ]
  },
  {
   "cell_type": "code",
   "execution_count": null,
   "metadata": {},
   "outputs": [],
   "source": [
    "from database.db_manager import Database\n",
    "from IPython.display import Image, display\n",
    "\n",
    "# Load the database\n",
    "db = Database.load('retail_db')\n",
    "\n",
    "if db is None:\n",
    "    print(\"Database not found. Please run create_tables.py first.\")\n",
    "else:\n",
    "    # Visualize the index of each table\n",
    "    for table_name in db.list_tables():\n",
    "        table = db.get_table(table_name)\n",
    "        dot = table.index.visualize_tree()\n",
    "        dot.render(f'visualizations/{table_name}_index', format='png', cleanup=True)\n",
    "        display(Image(filename=f'visualizations/{table_name}_index.png'))\n",
    "        print(f\"Visualization of {table_name} table index\")"
   ]
  },
  {
   "cell_type": "markdown",
   "metadata": {},
   "source": [
    "## 5. Conclusion\n",
    "\n",
    "In this project, we implemented a lightweight DBMS with B+ Tree indexing and compared its performance with a brute force approach. The performance analysis shows that the B+ Tree significantly outperforms the brute force approach for all operations, especially as the data size increases.\n",
    "\n",
    "The B+ Tree provides efficient insertion, deletion, search, and range query operations, making it an ideal choice for database indexing. The visualization of the B+ Tree structure helps in understanding how the tree is organized and how it facilitates efficient operations.\n",
    "\n",
    "### 5.1 Challenges\n",
    "\n",
    "Some of the challenges faced during the implementation include:\n",
    "\n",
    "1. Handling node splitting and merging in the B+ Tree\n",
    "2. Ensuring the B+ Tree maintains its balance properties\n",
    "3. Implementing efficient range queries using the linked list of leaf nodes\n",
    "4. Making the database persistent\n",
    "\n",
    "### 5.2 Web User Interface\n",
    "\n",
    "As a bonus feature, we implemented a web-based user interface for the DBMS using Flask. The UI provides the following functionality:\n",
    "\n",
    "1. **Database Setup**: Create tables and insert sample data\n",
    "2. **Table Management**: View, insert, update, and delete rows in tables\n",
    "3. **Range Queries**: Perform range queries on tables\n",
    "4. **Performance Analysis**: View performance comparison between B+ Tree and BruteForceDB\n",
    "5. **Visualization**: Visualize the B+ Tree structure\n",
    "\n",
    "The UI makes it easy to interact with the database without having to write code. It provides a user-friendly interface for all the operations supported by the DBMS.\n",
    "\n",
    "### 5.3 Future Improvements\n",
    "\n",
    "Some potential future improvements include:\n",
    "\n",
    "1. Implementing secondary indexes\n",
    "2. Adding support for transactions\n",
    "3. Implementing more advanced query operations (e.g., joins, aggregations)\n",
    "4. Optimizing the B+ Tree for disk-based storage\n",
    "5. Adding support for concurrent access\n",
    "6. Enhancing the UI with more features like data import/export"
   ]
  }
 ],
 "metadata": {
  "kernelspec": {
   "display_name": "Python 3",
   "language": "python",
   "name": "python3"
  },
  "language_info": {
   "codemirror_mode": {
    "name": "ipython",
    "version": 3
   },
   "file_extension": ".py",
   "mimetype": "text/x-python",
   "name": "python",
   "nbconvert_exporter": "python",
   "pygments_lexer": "ipython3",
   "version": "3.8.10"
  }
 },
 "nbformat": 4,
 "nbformat_minor": 4
}
